{
 "cells": [
  {
   "cell_type": "markdown",
   "metadata": {},
   "source": [
    "# RandomizedSearchCV for XGBoost\n",
    "\n",
    "This is the boiler plate I use for randomized search for XGBoost.\n",
    "\n",
    "!!! Importantly, we should clean data first before using this code, despite us including SMOTE here."
   ]
  },
  {
   "cell_type": "code",
   "execution_count": null,
   "metadata": {},
   "outputs": [],
   "source": [
    "import os\n",
    "import numpy as np\n",
    "import pandas as pd\n",
    "from tqdm import tqdm\n",
    "from datetime import datetime\n",
    "from sklearn.model_selection import RandomizedSearchCV, GridSearchCV\n",
    "from sklearn.model_selection import train_test_split\n",
    "from sklearn.metrics import roc_auc_score\n",
    "from sklearn.model_selection import StratifiedKFold\n",
    "from xgboost import XGBClassifier\n",
    "from imblearn.over_sampling import SMOTE\n",
    "\n",
    "import warnings\n",
    "\n",
    "warnings.filterwarnings(\"ignore\", category=UserWarning)\n",
    "\n",
    "\n",
    "def balance(X, y):\n",
    "    smote = SMOTE()\n",
    "    X_res, y_res = smote.fit_resample(X, y)\n",
    "    return X_res, y_res\n",
    "\n",
    "\n",
    "def timer(start_time=None):\n",
    "    if not start_time:\n",
    "        start_time = datetime.now()\n",
    "        return start_time\n",
    "    elif start_time:\n",
    "        thour, temp_sec = divmod((datetime.now() - start_time).total_seconds(), 3600)\n",
    "        tmin, tsec = divmod(temp_sec, 60)\n",
    "        print(\n",
    "            \"\\n Time taken: %i hours %i minutes and %s seconds.\"\n",
    "            % (thour, tmin, round(tsec, 2))\n",
    "        )"
   ]
  },
  {
   "cell_type": "markdown",
   "metadata": {},
   "source": [
    "## Parameters of Search\n",
    "\n",
    "Realistically, I should tune the n_estimators, since it should depend on the feature space."
   ]
  },
  {
   "cell_type": "code",
   "execution_count": null,
   "metadata": {},
   "outputs": [],
   "source": [
    "params = {\n",
    "    \"n_estimators\": [800, 900, 1000, 1100, 1200],\n",
    "    \"eta\": [0.1, 0.3, 0.5],\n",
    "    \"min_child_weight\": [1, 5, 8],\n",
    "    \"gamma\": [0.6, 1, 2],\n",
    "    \"subsample\": [0.8, 1.0],\n",
    "    \"colsample_bytree\": [0.6, 0.8, 1.0],\n",
    "    \"max_depth\": [5, 8, 10],\n",
    "}"
   ]
  },
  {
   "cell_type": "markdown",
   "metadata": {},
   "source": [
    "# Training XGBoost"
   ]
  },
  {
   "cell_type": "markdown",
   "metadata": {},
   "source": [
    "## Training Setup\n",
    "\n",
    "Modify this to the training data"
   ]
  },
  {
   "cell_type": "code",
   "execution_count": null,
   "metadata": {},
   "outputs": [],
   "source": [
    "df_train = None\n",
    "\n",
    "df_test = None\n",
    "test = df_test.drop([\"id\"], axis=1)\n",
    "\n",
    "targets = []"
   ]
  },
  {
   "cell_type": "code",
   "execution_count": null,
   "metadata": {},
   "outputs": [],
   "source": [
    "xgb = XGBClassifier(\n",
    "    objective=\"binary:logistic\",\n",
    "    verbosity=0,\n",
    "    nthread=1,\n",
    ")"
   ]
  },
  {
   "cell_type": "code",
   "execution_count": null,
   "metadata": {},
   "outputs": [],
   "source": [
    "folds = 5\n",
    "param_comb = 225\n",
    "\n",
    "skf = StratifiedKFold(n_splits=folds, shuffle=True)\n",
    "\n",
    "predictions = {}\n",
    "predictions[\"id\"] = df_test[\"id\"]\n",
    "\n",
    "# Loop over each target label\n",
    "for target in tqdm(targets):\n",
    "    y_target = df_train[target]\n",
    "\n",
    "    # Balance the data\n",
    "    smote = SMOTE()\n",
    "    X, y_target = smote.fit_resample(X, y_target)\n",
    "\n",
    "    # Create a new StratifiedKFold instance for each target\n",
    "    skf = StratifiedKFold(n_splits=folds, shuffle=True)\n",
    "\n",
    "    # Create a new RandomizedSearchCV instance for each target\n",
    "    random_search = RandomizedSearchCV(\n",
    "        xgb,\n",
    "        param_distributions=params,\n",
    "        n_iter=param_comb,\n",
    "        scoring=\"roc_auc\",\n",
    "        n_jobs=-1,\n",
    "        cv=skf.split(X, y_target),\n",
    "        verbose=0,\n",
    "    )\n",
    "    start_time = timer(None)\n",
    "    random_search.fit(X, y_target)\n",
    "    print(random_search.best_params_)\n",
    "    y_test = random_search.predict_proba(test)\n",
    "    predictions[target] = y_test\n",
    "    print(f\"Finished grid search and generating predictions for target: {target}\")\n",
    "\n",
    "print(\"Finished all targets.\")\n",
    "\n",
    "df_pred_pos = pd.DataFrame()\n",
    "df_pred_pos[\"id\"] = predictions[\"id\"]\n",
    "\n",
    "for target in targets:\n",
    "    df_pred_pos[target] = predictions[target][:, 1]\n",
    "\n",
    "df_pred_pos.to_csv(\"pred.csv\", index=False)"
   ]
  },
  {
   "cell_type": "markdown",
   "metadata": {},
   "source": [
    "# Optionally Submit to Kaggle"
   ]
  },
  {
   "cell_type": "code",
   "execution_count": null,
   "metadata": {},
   "outputs": [],
   "source": [
    "COMPETITION_NAME = \"\"\n",
    "\n",
    "### ////////// Uncomment the following line to submit to Kaggle ////////// ###\n",
    "\n",
    "# command = f\"kaggle competitions submit -c {COMPETITION_NAME} -f pred.csv -m 'submission'\"\n",
    "# os.system(command)"
   ]
  }
 ],
 "metadata": {
  "language_info": {
   "name": "python"
  }
 },
 "nbformat": 4,
 "nbformat_minor": 2
}
